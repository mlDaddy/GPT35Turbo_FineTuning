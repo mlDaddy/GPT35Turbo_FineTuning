{
 "cells": [
  {
   "cell_type": "markdown",
   "metadata": {},
   "source": [
    "## Setting up the Environment\n",
    "```\n",
    "conda create -n openai python=3.10\n",
    "conda activate openai\n",
    "pip install -r requirements.txt\n",
    "```\n",
    "\n",
    "## Setting up the api key\n",
    "1. Create a file named my_openai_api_key.txt in the working directory\n",
    "2. Paste your api key provided by OpenAI in this file and save\n",
    "3. You can delete this file once you are done"
   ]
  },
  {
   "cell_type": "code",
   "execution_count": 1,
   "metadata": {},
   "outputs": [
    {
     "name": "stdout",
     "output_type": "stream",
     "text": [
      "/home/anwer/ws/OpenAI/GPT35Turbo/FineTuning\n"
     ]
    }
   ],
   "source": [
    "# Setup Working Directory\n",
    "%cd '/home/anwer/ws/OpenAI/GPT35Turbo/FineTuning'\n",
    "\n",
    "# Create Data Folder\n",
    "!mkdir data\n",
    "\n",
    "# Place Your JSONL data file in data folder\n",
    "# Next, we specify the data path and open the JSONL file\n",
    "data_path = \"data/data.jsonl\""
   ]
  },
  {
   "cell_type": "code",
   "execution_count": 5,
   "metadata": {},
   "outputs": [],
   "source": [
    "# import utility functions from OpenAI\n",
    "from utils import verify_data, upload_fintuning_data, start_finetuning_job"
   ]
  },
  {
   "cell_type": "code",
   "execution_count": 6,
   "metadata": {},
   "outputs": [
    {
     "name": "stdout",
     "output_type": "stream",
     "text": [
      "Num examples: 3\n",
      "First example:\n",
      "{'role': 'system', 'content': 'You are a funny person that always keeps cracking dad jokes'}\n",
      "{'role': 'user', 'content': 'What would you call a fake pasta?'}\n",
      "{'role': 'assistant', 'content': 'An impasta'}\n",
      "No errors found\n",
      "Num examples missing system message: 0\n",
      "Num examples missing user message: 0\n",
      "\n",
      "#### Distribution of num_messages_per_example:\n",
      "min / max: 3, 3\n",
      "mean / median: 3.0, 3.0\n",
      "p5 / p95: 3.0, 3.0\n",
      "\n",
      "#### Distribution of num_total_tokens_per_example:\n",
      "min / max: 37, 44\n",
      "mean / median: 39.666666666666664, 38.0\n",
      "p5 / p95: 37.2, 42.8\n",
      "\n",
      "#### Distribution of num_assistant_tokens_per_example:\n",
      "min / max: 2, 5\n",
      "mean / median: 3.3333333333333335, 3.0\n",
      "p5 / p95: 2.2, 4.6\n",
      "\n",
      "0 examples may be over the 4096 token limit, they will be truncated during fine-tuning\n",
      "Dataset has ~119 tokens that will be charged for during training\n",
      "By default, you'll train for 25 epochs on this dataset\n",
      "By default, you'll be charged for ~2975 tokens\n",
      "See pricing page to estimate total costs\n"
     ]
    }
   ],
   "source": [
    "# Verify the data file\n",
    "verify_data(data_path)"
   ]
  },
  {
   "cell_type": "code",
   "execution_count": 7,
   "metadata": {},
   "outputs": [
    {
     "name": "stdout",
     "output_type": "stream",
     "text": [
      "File uploaded successfully. ID: file-8L1LDqO9MdvI4qKWbygU0ma7\n"
     ]
    }
   ],
   "source": [
    "file_id = upload_fintuning_data(data_path)"
   ]
  },
  {
   "cell_type": "code",
   "execution_count": 8,
   "metadata": {},
   "outputs": [
    {
     "name": "stdout",
     "output_type": "stream",
     "text": [
      "Failed to create fine-tuning job. Error: Fine-tuning jobs cannot be created on an Explore plan. You can upgrade to a paid plan on your billing page: https://platform.openai.com/account/billing/overview\n"
     ]
    }
   ],
   "source": [
    "job = start_finetuning_job(file_id=file_id, model=\"gpt-3.5-turbo\")"
   ]
  },
  {
   "cell_type": "markdown",
   "metadata": {},
   "source": [
    "- You will receive an email from OpenAI after the process gets completed.\n",
    "- You can start using the new fine-tuned model inside OpenAI Playground"
   ]
  }
 ],
 "metadata": {
  "kernelspec": {
   "display_name": "openai",
   "language": "python",
   "name": "python3"
  },
  "language_info": {
   "codemirror_mode": {
    "name": "ipython",
    "version": 3
   },
   "file_extension": ".py",
   "mimetype": "text/x-python",
   "name": "python",
   "nbconvert_exporter": "python",
   "pygments_lexer": "ipython3",
   "version": "3.10.13"
  }
 },
 "nbformat": 4,
 "nbformat_minor": 2
}
